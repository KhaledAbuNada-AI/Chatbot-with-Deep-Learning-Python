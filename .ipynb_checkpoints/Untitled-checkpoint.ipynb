{
 "cells": [
  {
   "cell_type": "code",
   "execution_count": 1,
   "metadata": {},
   "outputs": [
    {
     "name": "stdout",
     "output_type": "stream",
     "text": [
      "Requirement already satisfied: nltk in /Users/khalednada/opt/anaconda3/envs/tensorflow/lib/python3.6/site-packages (3.6.5)\n",
      "Requirement already satisfied: click in /Users/khalednada/opt/anaconda3/envs/tensorflow/lib/python3.6/site-packages (from nltk) (8.0.3)\n",
      "Requirement already satisfied: regex>=2021.8.3 in /Users/khalednada/opt/anaconda3/envs/tensorflow/lib/python3.6/site-packages (from nltk) (2021.11.2)\n",
      "Requirement already satisfied: joblib in /Users/khalednada/opt/anaconda3/envs/tensorflow/lib/python3.6/site-packages (from nltk) (1.0.1)\n",
      "Requirement already satisfied: tqdm in /Users/khalednada/opt/anaconda3/envs/tensorflow/lib/python3.6/site-packages (from nltk) (4.62.3)\n",
      "Requirement already satisfied: importlib-metadata in /Users/khalednada/opt/anaconda3/envs/tensorflow/lib/python3.6/site-packages (from click->nltk) (2.0.0)\n",
      "Requirement already satisfied: zipp>=0.5 in /Users/khalednada/opt/anaconda3/envs/tensorflow/lib/python3.6/site-packages (from importlib-metadata->click->nltk) (3.4.0)\n",
      "Note: you may need to restart the kernel to use updated packages.\n"
     ]
    }
   ],
   "source": [
    "pip install nltk"
   ]
  },
  {
   "cell_type": "code",
   "execution_count": 2,
   "metadata": {},
   "outputs": [
    {
     "name": "stdout",
     "output_type": "stream",
     "text": [
      "Requirement already satisfied: tflearn in /Users/khalednada/opt/anaconda3/envs/tensorflow/lib/python3.6/site-packages (0.5.0)\n",
      "Requirement already satisfied: six in /Users/khalednada/opt/anaconda3/envs/tensorflow/lib/python3.6/site-packages (from tflearn) (1.15.0)\n",
      "Requirement already satisfied: Pillow in /Users/khalednada/opt/anaconda3/envs/tensorflow/lib/python3.6/site-packages (from tflearn) (8.1.0)\n",
      "Requirement already satisfied: numpy in /Users/khalednada/opt/anaconda3/envs/tensorflow/lib/python3.6/site-packages (from tflearn) (1.16.2)\n",
      "Note: you may need to restart the kernel to use updated packages.\n"
     ]
    }
   ],
   "source": [
    "pip install tflearn"
   ]
  },
  {
   "cell_type": "markdown",
   "metadata": {},
   "source": [
    "## importing some modules"
   ]
  },
  {
   "cell_type": "code",
   "execution_count": 3,
   "metadata": {},
   "outputs": [
    {
     "name": "stderr",
     "output_type": "stream",
     "text": [
      "[nltk_data] Downloading package punkt to\n",
      "[nltk_data]     /Users/khalednada/nltk_data...\n",
      "[nltk_data]   Package punkt is already up-to-date!\n"
     ]
    },
    {
     "name": "stdout",
     "output_type": "stream",
     "text": [
      "WARNING:tensorflow:From /Users/khalednada/opt/anaconda3/envs/tensorflow/lib/python3.6/site-packages/tensorflow/python/compat/v2_compat.py:96: disable_resource_variables (from tensorflow.python.ops.variable_scope) is deprecated and will be removed in a future version.\n",
      "Instructions for updating:\n",
      "non-resource variables are not supported in the long term\n"
     ]
    }
   ],
   "source": [
    "import nltk\n",
    "nltk.download('punkt')\n",
    "from nltk.stem.lancaster import LancasterStemmer\n",
    "stemmer = LancasterStemmer()\n",
    "\n",
    "import numpy\n",
    "import tflearn\n",
    "import tensorflow\n",
    "import random\n",
    "import json\n",
    "import pickle"
   ]
  },
  {
   "cell_type": "markdown",
   "metadata": {},
   "source": [
    "## Loading our JSON Data"
   ]
  },
  {
   "cell_type": "code",
   "execution_count": 4,
   "metadata": {},
   "outputs": [],
   "source": [
    "with open('intents.json') as file:\n",
    "    data = json.load(file)"
   ]
  },
  {
   "cell_type": "markdown",
   "metadata": {},
   "source": [
    "## Extracting Data\n"
   ]
  },
  {
   "cell_type": "code",
   "execution_count": 5,
   "metadata": {},
   "outputs": [
    {
     "name": "stdout",
     "output_type": "stream",
     "text": [
      "WARNING:tensorflow:From /Users/khalednada/opt/anaconda3/envs/tensorflow/lib/python3.6/site-packages/tflearn/initializations.py:165: calling TruncatedNormal.__init__ (from tensorflow.python.ops.init_ops) with dtype is deprecated and will be removed in a future version.\n",
      "Instructions for updating:\n",
      "Call initializer instance with the dtype argument instead of passing it to the constructor\n",
      "INFO:tensorflow:Restoring parameters from /Users/khalednada/developer project/ML_Project/boots/Chatbot-with-Deep-Learning-Python/model.tflearn\n"
     ]
    }
   ],
   "source": [
    "try:\n",
    "    with open(\"data.pickle\", \"rd\") as f:\n",
    "        words, labels, training, output = pickle.load(f)\n",
    "except:\n",
    "    words = []\n",
    "    labels = []\n",
    "    docs_x = []\n",
    "    docs_y = []\n",
    "\n",
    "    for intent in data['intents']:\n",
    "        for pattern in intent['patterns']:\n",
    "            wrds = nltk.word_tokenize(pattern)\n",
    "            words.extend(wrds)\n",
    "            docs_x.append(wrds)\n",
    "            docs_y.append(intent[\"tag\"])\n",
    "\n",
    "        if intent['tag'] not in labels:\n",
    "            labels.append(intent['tag'])\n",
    "\n",
    "        ##### Word Stemming ####\n",
    "    words = [stemmer.stem(w.lower()) for w in words if w != \"?\"]\n",
    "    words = sorted(list(set(words)))\n",
    "\n",
    "    labels = sorted(labels)\n",
    "\n",
    "       #### Bag of Words ####\n",
    "    training = []\n",
    "    output = []\n",
    "\n",
    "    out_empty = [0 for _ in range(len(labels))]\n",
    "\n",
    "    for x, doc in enumerate(docs_x):\n",
    "        bag = []\n",
    "\n",
    "        wrds = [stemmer.stem(w.lower()) for w in doc]\n",
    "        for w in words:\n",
    "            if w in wrds:\n",
    "                bag.append(1)\n",
    "            else:\n",
    "                bag.append(0)\n",
    "\n",
    "        output_row = out_empty[:]\n",
    "        output_row[labels.index(docs_y[x])] = 1\n",
    "\n",
    "        training.append(bag)\n",
    "        output.append(output_row)\n",
    "\n",
    "     # Finally we will convert our training data and output to numpy arrays.\n",
    "    training = numpy.array(training)\n",
    "    output = numpy.array(output)\n",
    "    \n",
    "    with open(\"data.pickle\", \"wb\") as f:\n",
    "            pickle.dump((words, labels, training, output), f)\n",
    "\n",
    "    #### Developing a Model ####\n",
    "\n",
    "net = tflearn.input_data(shape=[None, len(training[0])])\n",
    "net = tflearn.fully_connected(net, 8)\n",
    "net = tflearn.fully_connected(net, 8)\n",
    "net = tflearn.fully_connected(net, 8)\n",
    "net = tflearn.fully_connected(net, len(output[0]), activation=\"softmax\")\n",
    "net = tflearn.regression(net)\n",
    "\n",
    "model = tflearn.DNN(net)\n",
    "\n",
    "   #### Training & Saving the Model ####\n",
    "    \n",
    "try:\n",
    "    model.load(\"model.tflearn\")\n",
    "except:\n",
    "    model.fit(training, output, n_epoch=500, batch_size=10, show_metric=True)\n",
    "    model.save(\"model.tflearn\")"
   ]
  },
  {
   "cell_type": "markdown",
   "metadata": {},
   "source": [
    "## Making Predictions\n"
   ]
  },
  {
   "cell_type": "code",
   "execution_count": null,
   "metadata": {},
   "outputs": [],
   "source": []
  },
  {
   "cell_type": "code",
   "execution_count": null,
   "metadata": {},
   "outputs": [],
   "source": []
  },
  {
   "cell_type": "markdown",
   "metadata": {},
   "source": [
    "## Word Stemming\n"
   ]
  },
  {
   "cell_type": "code",
   "execution_count": 6,
   "metadata": {},
   "outputs": [],
   "source": [
    "# words = [stemmer.stem(w.lower()) for w in words if w != \"?\"]\n",
    "# words = sorted(list(set(words)))\n",
    "\n",
    "# labels = sorted(labels)"
   ]
  },
  {
   "cell_type": "code",
   "execution_count": 7,
   "metadata": {},
   "outputs": [],
   "source": [
    "# labels"
   ]
  },
  {
   "cell_type": "markdown",
   "metadata": {},
   "source": [
    "## Bag of Words\n"
   ]
  },
  {
   "cell_type": "code",
   "execution_count": 8,
   "metadata": {},
   "outputs": [],
   "source": [
    "# training = []\n",
    "# output = []\n",
    "\n",
    "# out_empty = [0 for _ in range(len(labels))]\n",
    "\n",
    "# for x, doc in enumerate(docs_x):\n",
    "#     bag = []\n",
    "    \n",
    "#     wrds = [stemmer.stem(w.lower()) for w in doc]\n",
    "#     for w in words:\n",
    "#         if w in wrds:\n",
    "#             bag.append(1)\n",
    "#         else:\n",
    "#             bag.append(0)\n",
    "    \n",
    "#     output_row = out_empty[:]\n",
    "#     output_row[labels.index(docs_y[x])] = 1\n",
    "    \n",
    "#     training.append(bag)\n",
    "#     output.append(output_row)"
   ]
  },
  {
   "cell_type": "code",
   "execution_count": 9,
   "metadata": {},
   "outputs": [],
   "source": [
    "# # Finally we will convert our training data and output to numpy arrays.\n",
    "\n",
    "# training = numpy.array(training)\n",
    "# output = numpy.array(output)"
   ]
  },
  {
   "cell_type": "markdown",
   "metadata": {},
   "source": [
    "## Developing a Model\n"
   ]
  },
  {
   "cell_type": "code",
   "execution_count": 10,
   "metadata": {},
   "outputs": [],
   "source": [
    "# # tensorflow.reset_default_graph()\n",
    "# net = tflearn.input_data(shape=[None, len(training[0])])\n",
    "# net = tflearn.fully_connected(net, 8)\n",
    "# net = tflearn.fully_connected(net, 8)\n",
    "# net = tflearn.fully_connected(net, 8)\n",
    "# net = tflearn.fully_connected(net, len(output[0]), activation=\"softmax\")\n",
    "# net = tflearn.regression(net)\n",
    "\n",
    "# model = tflearn.DNN(net)"
   ]
  },
  {
   "cell_type": "markdown",
   "metadata": {},
   "source": [
    "## Training & Saving the Model\n"
   ]
  },
  {
   "cell_type": "code",
   "execution_count": 11,
   "metadata": {},
   "outputs": [],
   "source": [
    "# model.fit(training, output, n_epoch=500, batch_size=10, show_metric=True)\n",
    "\n",
    "# model.save(\"model.tflearn\")"
   ]
  },
  {
   "cell_type": "code",
   "execution_count": null,
   "metadata": {},
   "outputs": [],
   "source": []
  }
 ],
 "metadata": {
  "kernelspec": {
   "display_name": "Python 3.6 (tensorflow)",
   "language": "python",
   "name": "tensorflow"
  },
  "language_info": {
   "codemirror_mode": {
    "name": "ipython",
    "version": 3
   },
   "file_extension": ".py",
   "mimetype": "text/x-python",
   "name": "python",
   "nbconvert_exporter": "python",
   "pygments_lexer": "ipython3",
   "version": "3.6.12"
  }
 },
 "nbformat": 4,
 "nbformat_minor": 4
}
